{
 "cells": [
  {
   "cell_type": "code",
   "execution_count": 4,
   "id": "75638528-4609-4ee2-93c9-28538579e471",
   "metadata": {},
   "outputs": [],
   "source": [
    "import pandas as pd\n",
    "import numpy as np\n",
    "import utils\n",
    "\n",
    "from sklearn.model_selection import GroupKFold, KFold\n",
    "from sklearn.linear_model import LinearRegression\n",
    "from sklearn.ensemble import RandomForestRegressor\n",
    "from sklearn.metrics import mean_squared_error\n",
    "from xgboost import XGBRegressor\n",
    "import tweedie\n",
    "\n",
    "from importlib import reload\n",
    "reload(utils)\n",
    "from skopt import gp_minimize\n",
    "%matplotlib inline"
   ]
  },
  {
   "cell_type": "code",
   "execution_count": 5,
   "id": "3be069d6-c17e-43a2-8252-2acf5e9c26ad",
   "metadata": {},
   "outputs": [],
   "source": [
    "train = pd.read_parquet(\"./train/0.parquet\")\n",
    "train['date'] = pd.to_datetime(train['date'])\n",
    "train['fold'] = train['date'].dt.month"
   ]
  },
  {
   "cell_type": "code",
   "execution_count": 6,
   "id": "smaller-boulder",
   "metadata": {},
   "outputs": [],
   "source": [
    "test = pd.read_csv(\"test_data.csv\", index_col=0).squeeze()"
   ]
  },
  {
   "cell_type": "code",
   "execution_count": 7,
   "id": "finnish-canadian",
   "metadata": {},
   "outputs": [
    {
     "data": {
      "text/plain": [
       "sku                                int64\n",
       "date                      datetime64[ns]\n",
       "sold_quantity                      int64\n",
       "current_price                    float64\n",
       "currency                          object\n",
       "listing_type                      object\n",
       "shipping_logistic_type            object\n",
       "shipping_payment                  object\n",
       "minutes_active                   float64\n",
       "item_domain_id                    object\n",
       "site_id                           object\n",
       "fold                               int64\n",
       "dtype: object"
      ]
     },
     "execution_count": 7,
     "metadata": {},
     "output_type": "execute_result"
    }
   ],
   "source": [
    "train.dtypes"
   ]
  },
  {
   "cell_type": "code",
   "execution_count": 8,
   "id": "fc10499b-4c46-4f7e-a88e-a4233fb05504",
   "metadata": {},
   "outputs": [
    {
     "data": {
      "text/html": [
       "<div>\n",
       "<style scoped>\n",
       "    .dataframe tbody tr th:only-of-type {\n",
       "        vertical-align: middle;\n",
       "    }\n",
       "\n",
       "    .dataframe tbody tr th {\n",
       "        vertical-align: top;\n",
       "    }\n",
       "\n",
       "    .dataframe thead th {\n",
       "        text-align: right;\n",
       "    }\n",
       "</style>\n",
       "<table border=\"1\" class=\"dataframe\">\n",
       "  <thead>\n",
       "    <tr style=\"text-align: right;\">\n",
       "      <th></th>\n",
       "      <th>sku</th>\n",
       "      <th>date</th>\n",
       "      <th>sold_quantity</th>\n",
       "      <th>current_price</th>\n",
       "      <th>currency</th>\n",
       "      <th>listing_type</th>\n",
       "      <th>shipping_logistic_type</th>\n",
       "      <th>shipping_payment</th>\n",
       "      <th>minutes_active</th>\n",
       "      <th>item_domain_id</th>\n",
       "      <th>site_id</th>\n",
       "      <th>fold</th>\n",
       "    </tr>\n",
       "  </thead>\n",
       "  <tbody>\n",
       "    <tr>\n",
       "      <th>0</th>\n",
       "      <td>464801</td>\n",
       "      <td>2021-02-01</td>\n",
       "      <td>0</td>\n",
       "      <td>156.78</td>\n",
       "      <td>REA</td>\n",
       "      <td>classic</td>\n",
       "      <td>fulfillment</td>\n",
       "      <td>free_shipping</td>\n",
       "      <td>1440.0</td>\n",
       "      <td>MLB-NEBULIZERS</td>\n",
       "      <td>MLB</td>\n",
       "      <td>2</td>\n",
       "    </tr>\n",
       "    <tr>\n",
       "      <th>1</th>\n",
       "      <td>464801</td>\n",
       "      <td>2021-02-02</td>\n",
       "      <td>0</td>\n",
       "      <td>156.78</td>\n",
       "      <td>REA</td>\n",
       "      <td>classic</td>\n",
       "      <td>fulfillment</td>\n",
       "      <td>free_shipping</td>\n",
       "      <td>1440.0</td>\n",
       "      <td>MLB-NEBULIZERS</td>\n",
       "      <td>MLB</td>\n",
       "      <td>2</td>\n",
       "    </tr>\n",
       "    <tr>\n",
       "      <th>2</th>\n",
       "      <td>464801</td>\n",
       "      <td>2021-02-03</td>\n",
       "      <td>0</td>\n",
       "      <td>156.78</td>\n",
       "      <td>REA</td>\n",
       "      <td>classic</td>\n",
       "      <td>fulfillment</td>\n",
       "      <td>free_shipping</td>\n",
       "      <td>1440.0</td>\n",
       "      <td>MLB-NEBULIZERS</td>\n",
       "      <td>MLB</td>\n",
       "      <td>2</td>\n",
       "    </tr>\n",
       "    <tr>\n",
       "      <th>3</th>\n",
       "      <td>464801</td>\n",
       "      <td>2021-02-04</td>\n",
       "      <td>0</td>\n",
       "      <td>156.78</td>\n",
       "      <td>REA</td>\n",
       "      <td>classic</td>\n",
       "      <td>fulfillment</td>\n",
       "      <td>free_shipping</td>\n",
       "      <td>1440.0</td>\n",
       "      <td>MLB-NEBULIZERS</td>\n",
       "      <td>MLB</td>\n",
       "      <td>2</td>\n",
       "    </tr>\n",
       "    <tr>\n",
       "      <th>4</th>\n",
       "      <td>464801</td>\n",
       "      <td>2021-02-05</td>\n",
       "      <td>1</td>\n",
       "      <td>156.78</td>\n",
       "      <td>REA</td>\n",
       "      <td>classic</td>\n",
       "      <td>fulfillment</td>\n",
       "      <td>free_shipping</td>\n",
       "      <td>1440.0</td>\n",
       "      <td>MLB-NEBULIZERS</td>\n",
       "      <td>MLB</td>\n",
       "      <td>2</td>\n",
       "    </tr>\n",
       "  </tbody>\n",
       "</table>\n",
       "</div>"
      ],
      "text/plain": [
       "      sku       date  sold_quantity  current_price currency listing_type  \\\n",
       "0  464801 2021-02-01              0         156.78      REA      classic   \n",
       "1  464801 2021-02-02              0         156.78      REA      classic   \n",
       "2  464801 2021-02-03              0         156.78      REA      classic   \n",
       "3  464801 2021-02-04              0         156.78      REA      classic   \n",
       "4  464801 2021-02-05              1         156.78      REA      classic   \n",
       "\n",
       "  shipping_logistic_type shipping_payment  minutes_active  item_domain_id  \\\n",
       "0            fulfillment    free_shipping          1440.0  MLB-NEBULIZERS   \n",
       "1            fulfillment    free_shipping          1440.0  MLB-NEBULIZERS   \n",
       "2            fulfillment    free_shipping          1440.0  MLB-NEBULIZERS   \n",
       "3            fulfillment    free_shipping          1440.0  MLB-NEBULIZERS   \n",
       "4            fulfillment    free_shipping          1440.0  MLB-NEBULIZERS   \n",
       "\n",
       "  site_id  fold  \n",
       "0     MLB     2  \n",
       "1     MLB     2  \n",
       "2     MLB     2  \n",
       "3     MLB     2  \n",
       "4     MLB     2  "
      ]
     },
     "execution_count": 8,
     "metadata": {},
     "output_type": "execute_result"
    }
   ],
   "source": [
    "train.head()"
   ]
  },
  {
   "cell_type": "code",
   "execution_count": 9,
   "id": "monthly-general",
   "metadata": {},
   "outputs": [],
   "source": [
    "def gen_tr_ts():\n",
    "    for fold in [2,3]:\n",
    "        ts = train[train['fold'] != fold]['date'].max()\n",
    "        ts = train[(train['fold'] != fold) & (train['date'] == ts)].index\n",
    "        yield train.index[train['fold'] == fold], ts, fold\n",
    "\n",
    "    "
   ]
  },
  {
   "cell_type": "code",
   "execution_count": 10,
   "id": "bdb25520-ed36-4c4c-a9fe-23387cb3f918",
   "metadata": {},
   "outputs": [],
   "source": [
    "\n",
    "def gen_p(na=30., power=1.5):\n",
    "    dts = list()\n",
    "    for tr,ts, fold in gen_tr_ts():\n",
    "\n",
    "        ## EVAL\n",
    "        pp = train[train['fold'] != fold][['sku', 'date', 'sold_quantity']]\n",
    "        pp['stock'] = pp['sku'].map(test)\n",
    "        pp = pp.sort_values([\"sku\",\"date\"])\n",
    "        pp['cumulative_y'] = pp.groupby(\"sku\")['sold_quantity'].cumsum()\n",
    "\n",
    "        pp = pp.dropna(subset=['stock'])\n",
    "        pp['stockout_y'] = pp['cumulative_y'] >= pp['stock']\n",
    "\n",
    "        first_so_y = pp[pp['stockout_y']].groupby(\"sku\").first()\n",
    "        days_to_so_y = (first_so_y[\"date\"] - pp[\"date\"].min()) / np.timedelta64(1, 'D')\n",
    "        days_to_so_y = days_to_so_y.reindex(pp['sku'].unique()).fillna(na).astype(int).clip(1)\n",
    "        dts.append(days_to_so_y)\n",
    "\n",
    "    m = utils.pred_list_to_distro(dts[0], wei=False, total_days=max(na, 30), phi=2, power=power)\n",
    "    f = utils.pred_list_to_distro(dts[1].reindex(dts[0].index).fillna(dts[0]), wei=False, total_days=max(na, 30), phi=2, power=power)\n",
    "\n",
    "    m = pd.DataFrame(m,index=dts[0].index)\n",
    "    f = pd.DataFrame(f,index=dts[0].index)\n",
    "\n",
    "    p = (m + f)/2\n",
    "\n",
    "    p = p.div(p.sum(axis=1), axis=0)\n",
    "\n",
    "    p = p.loc[test.index]\n",
    "    \n",
    "    p = p.round(4)\n",
    "\n",
    "    return p"
   ]
  },
  {
   "cell_type": "code",
   "execution_count": 11,
   "id": "outer-certificate",
   "metadata": {},
   "outputs": [],
   "source": [
    "r = {i:gen_p(30, power=i/10) for i in range(11,20,1)}\n"
   ]
  },
  {
   "cell_type": "code",
   "execution_count": 52,
   "id": "1834ec6c-f4e4-4272-8b08-f6a3cbadb705",
   "metadata": {},
   "outputs": [
    {
     "data": {
      "text/plain": [
       "<matplotlib.axes._subplots.AxesSubplot at 0x7f7ef8c79310>"
      ]
     },
     "execution_count": 52,
     "metadata": {},
     "output_type": "execute_result"
    },
    {
     "data": {
      "image/png": "[encoded data removed]",
      "text/plain": [
       "<Figure size 432x288 with 1 Axes>"
      ]
     },
     "metadata": {
      "needs_background": "light"
     },
     "output_type": "display_data"
    }
   ],
   "source": [
    "r[11].mean(axis=0).plot()"
   ]
  },
  {
   "cell_type": "code",
   "execution_count": 53,
   "id": "bd7c0392-db7e-4361-a7ed-64cf9a949504",
   "metadata": {},
   "outputs": [
    {
     "data": {
      "text/plain": [
       "<matplotlib.axes._subplots.AxesSubplot at 0x7f7f18da1a00>"
      ]
     },
     "execution_count": 53,
     "metadata": {},
     "output_type": "execute_result"
    },
    {
     "data": {
      "image/png": "[encoded data removed]",
      "text/plain": [
       "<Figure size 432x288 with 1 Axes>"
      ]
     },
     "metadata": {
      "needs_background": "light"
     },
     "output_type": "display_data"
    }
   ],
   "source": [
    "r[12].mean(axis=0).plot()"
   ]
  },
  {
   "cell_type": "code",
   "execution_count": 13,
   "id": "7b22e456-318b-4ab0-bf80-31807d2f268c",
   "metadata": {},
   "outputs": [
    {
     "data": {
      "text/plain": [
       "<matplotlib.axes._subplots.AxesSubplot at 0x7fb628658670>"
      ]
     },
     "execution_count": 13,
     "metadata": {},
     "output_type": "execute_result"
    },
    {
     "data": {
      "image/png": "[encoded data removed]",
      "text/plain": [
       "<Figure size 432x288 with 1 Axes>"
      ]
     },
     "metadata": {
      "needs_background": "light"
     },
     "output_type": "display_data"
    }
   ],
   "source": [
    "r[13].mean(axis=0).plot()"
   ]
  },
  {
   "cell_type": "code",
   "execution_count": 59,
   "id": "2efa8e12-e62a-463a-82e4-bdca3babdcd3",
   "metadata": {},
   "outputs": [],
   "source": [
    "# phi=2, power=1.3, na=30\n",
    "r[13].round(4).to_csv(\"32b.csv.gz\", header=False, index=False, compression=\"gzip\")\n",
    "# LB 4.94"
   ]
  },
  {
   "cell_type": "code",
   "execution_count": null,
   "id": "57e747a1-1d2b-4339-8be8-ffdd1c6fb0a3",
   "metadata": {},
   "outputs": [],
   "source": [
    "# BONUS\n",
    "# xgb 19 + baseline 32 / 2 - LB 4.44"
   ]
  }
 ],
 "metadata": {
  "kernelspec": {
   "display_name": "Python 3",
   "language": "python",
   "name": "python3"
  },
  "language_info": {
   "codemirror_mode": {
    "name": "ipython",
    "version": 3
   },
   "file_extension": ".py",
   "mimetype": "text/x-python",
   "name": "python",
   "nbconvert_exporter": "python",
   "pygments_lexer": "ipython3",
   "version": "3.8.5"
  }
 },
 "nbformat": 4,
 "nbformat_minor": 5
}
